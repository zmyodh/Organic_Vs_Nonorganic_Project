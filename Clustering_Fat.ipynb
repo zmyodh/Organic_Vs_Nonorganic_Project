{
  "nbformat": 4,
  "nbformat_minor": 0,
  "metadata": {
    "colab": {
      "provenance": []
    },
    "kernelspec": {
      "name": "python3",
      "display_name": "Python 3"
    },
    "language_info": {
      "name": "python"
    }
  },
  "cells": [
    {
      "cell_type": "code",
      "execution_count": null,
      "metadata": {
        "id": "e6qTxDPvg82A"
      },
      "outputs": [],
      "source": [
        "# Import required libraries\n",
        "import pandas as pd\n",
        "import numpy as np\n",
        "import matplotlib.pyplot as plt\n",
        "import seaborn as sns\n",
        "from sklearn.cluster import KMeans"
      ]
    },
    {
      "cell_type": "code",
      "source": [
        "# Read in data\n",
        "cleaned_df = pd.read_csv(\"cleaned_data_v2.csv\")"
      ],
      "metadata": {
        "id": "31J6G5irhLNl"
      },
      "execution_count": null,
      "outputs": []
    },
    {
      "cell_type": "code",
      "source": [
        "# Create DataFrame with fats columns, cholesterol, and organic label\n",
        "cluster_df = cleaned_df[['fat_100g', 'saturated_fat_100g', 'cholesterol_100g', 'organic_label']]"
      ],
      "metadata": {
        "id": "FMhTioa6iRe-"
      },
      "execution_count": null,
      "outputs": []
    },
    {
      "cell_type": "code",
      "source": [
        "# Create new column to see if ratio of saturated fat to total fat has any correlation with organic labeling\n",
        "cluster_df['sat_fat_to_total_fat'] = cluster_df['saturated_fat_100g'] / (cluster_df['fat_100g'] + 1e-6)"
      ],
      "metadata": {
        "colab": {
          "base_uri": "https://localhost:8080/"
        },
        "id": "8FUHRAG_n6et",
        "outputId": "2004e108-0515-4302-dfe1-6022d42439eb"
      },
      "execution_count": null,
      "outputs": [
        {
          "output_type": "stream",
          "name": "stderr",
          "text": [
            "<ipython-input-4-a41499a65d4f>:2: SettingWithCopyWarning: \n",
            "A value is trying to be set on a copy of a slice from a DataFrame.\n",
            "Try using .loc[row_indexer,col_indexer] = value instead\n",
            "\n",
            "See the caveats in the documentation: https://pandas.pydata.org/pandas-docs/stable/user_guide/indexing.html#returning-a-view-versus-a-copy\n",
            "  cluster_df['sat_fat_to_total_fat'] = cluster_df['saturated_fat_100g'] / (cluster_df['fat_100g'] + 1e-6)\n"
          ]
        }
      ]
    },
    {
      "cell_type": "code",
      "source": [
        "# Create features DataFrame\n",
        "features = cluster_df[['fat_100g', 'saturated_fat_100g', 'cholesterol_100g', 'sat_fat_to_total_fat']]"
      ],
      "metadata": {
        "id": "4t3wLVv1odtp"
      },
      "execution_count": null,
      "outputs": []
    },
    {
      "cell_type": "code",
      "source": [
        "# Fill in nulls with 0s\n",
        "features = features.fillna(0)"
      ],
      "metadata": {
        "id": "jt4-btbnoFYB"
      },
      "execution_count": null,
      "outputs": []
    },
    {
      "cell_type": "markdown",
      "source": [
        "#### Correlation Matrix"
      ],
      "metadata": {
        "id": "CtbdlUMtQZB0"
      }
    },
    {
      "cell_type": "code",
      "source": [
        "corr_matrix = features.corr()"
      ],
      "metadata": {
        "id": "6NrbxO-yoNZK"
      },
      "execution_count": null,
      "outputs": []
    },
    {
      "cell_type": "markdown",
      "source": [
        "###### Positive correlations between these features makes sense because they have direct relationships."
      ],
      "metadata": {
        "id": "yd7xvak_Qrme"
      }
    },
    {
      "cell_type": "code",
      "source": [
        "corr_matrix"
      ],
      "metadata": {
        "colab": {
          "base_uri": "https://localhost:8080/",
          "height": 174
        },
        "id": "fM-ABPJopni6",
        "outputId": "2ad5acb9-bcf7-4d91-a549-8bbbfb3a4b10"
      },
      "execution_count": null,
      "outputs": [
        {
          "output_type": "execute_result",
          "data": {
            "text/plain": [
              "                      fat_100g  saturated_fat_100g  cholesterol_100g  \\\n",
              "fat_100g              1.000000            0.682825          0.179969   \n",
              "saturated_fat_100g    0.682825            1.000000          0.382912   \n",
              "cholesterol_100g      0.179969            0.382912          1.000000   \n",
              "sat_fat_to_total_fat  0.274082            0.700780          0.392032   \n",
              "\n",
              "                      sat_fat_to_total_fat  \n",
              "fat_100g                          0.274082  \n",
              "saturated_fat_100g                0.700780  \n",
              "cholesterol_100g                  0.392032  \n",
              "sat_fat_to_total_fat              1.000000  "
            ],
            "text/html": [
              "\n",
              "  <div id=\"df-c4e8d5c4-7d9f-4d6a-b9e4-6a49a083955f\" class=\"colab-df-container\">\n",
              "    <div>\n",
              "<style scoped>\n",
              "    .dataframe tbody tr th:only-of-type {\n",
              "        vertical-align: middle;\n",
              "    }\n",
              "\n",
              "    .dataframe tbody tr th {\n",
              "        vertical-align: top;\n",
              "    }\n",
              "\n",
              "    .dataframe thead th {\n",
              "        text-align: right;\n",
              "    }\n",
              "</style>\n",
              "<table border=\"1\" class=\"dataframe\">\n",
              "  <thead>\n",
              "    <tr style=\"text-align: right;\">\n",
              "      <th></th>\n",
              "      <th>fat_100g</th>\n",
              "      <th>saturated_fat_100g</th>\n",
              "      <th>cholesterol_100g</th>\n",
              "      <th>sat_fat_to_total_fat</th>\n",
              "    </tr>\n",
              "  </thead>\n",
              "  <tbody>\n",
              "    <tr>\n",
              "      <th>fat_100g</th>\n",
              "      <td>1.000000</td>\n",
              "      <td>0.682825</td>\n",
              "      <td>0.179969</td>\n",
              "      <td>0.274082</td>\n",
              "    </tr>\n",
              "    <tr>\n",
              "      <th>saturated_fat_100g</th>\n",
              "      <td>0.682825</td>\n",
              "      <td>1.000000</td>\n",
              "      <td>0.382912</td>\n",
              "      <td>0.700780</td>\n",
              "    </tr>\n",
              "    <tr>\n",
              "      <th>cholesterol_100g</th>\n",
              "      <td>0.179969</td>\n",
              "      <td>0.382912</td>\n",
              "      <td>1.000000</td>\n",
              "      <td>0.392032</td>\n",
              "    </tr>\n",
              "    <tr>\n",
              "      <th>sat_fat_to_total_fat</th>\n",
              "      <td>0.274082</td>\n",
              "      <td>0.700780</td>\n",
              "      <td>0.392032</td>\n",
              "      <td>1.000000</td>\n",
              "    </tr>\n",
              "  </tbody>\n",
              "</table>\n",
              "</div>\n",
              "    <div class=\"colab-df-buttons\">\n",
              "\n",
              "  <div class=\"colab-df-container\">\n",
              "    <button class=\"colab-df-convert\" onclick=\"convertToInteractive('df-c4e8d5c4-7d9f-4d6a-b9e4-6a49a083955f')\"\n",
              "            title=\"Convert this dataframe to an interactive table.\"\n",
              "            style=\"display:none;\">\n",
              "\n",
              "  <svg xmlns=\"http://www.w3.org/2000/svg\" height=\"24px\" viewBox=\"0 -960 960 960\">\n",
              "    <path d=\"M120-120v-720h720v720H120Zm60-500h600v-160H180v160Zm220 220h160v-160H400v160Zm0 220h160v-160H400v160ZM180-400h160v-160H180v160Zm440 0h160v-160H620v160ZM180-180h160v-160H180v160Zm440 0h160v-160H620v160Z\"/>\n",
              "  </svg>\n",
              "    </button>\n",
              "\n",
              "  <style>\n",
              "    .colab-df-container {\n",
              "      display:flex;\n",
              "      gap: 12px;\n",
              "    }\n",
              "\n",
              "    .colab-df-convert {\n",
              "      background-color: #E8F0FE;\n",
              "      border: none;\n",
              "      border-radius: 50%;\n",
              "      cursor: pointer;\n",
              "      display: none;\n",
              "      fill: #1967D2;\n",
              "      height: 32px;\n",
              "      padding: 0 0 0 0;\n",
              "      width: 32px;\n",
              "    }\n",
              "\n",
              "    .colab-df-convert:hover {\n",
              "      background-color: #E2EBFA;\n",
              "      box-shadow: 0px 1px 2px rgba(60, 64, 67, 0.3), 0px 1px 3px 1px rgba(60, 64, 67, 0.15);\n",
              "      fill: #174EA6;\n",
              "    }\n",
              "\n",
              "    .colab-df-buttons div {\n",
              "      margin-bottom: 4px;\n",
              "    }\n",
              "\n",
              "    [theme=dark] .colab-df-convert {\n",
              "      background-color: #3B4455;\n",
              "      fill: #D2E3FC;\n",
              "    }\n",
              "\n",
              "    [theme=dark] .colab-df-convert:hover {\n",
              "      background-color: #434B5C;\n",
              "      box-shadow: 0px 1px 3px 1px rgba(0, 0, 0, 0.15);\n",
              "      filter: drop-shadow(0px 1px 2px rgba(0, 0, 0, 0.3));\n",
              "      fill: #FFFFFF;\n",
              "    }\n",
              "  </style>\n",
              "\n",
              "    <script>\n",
              "      const buttonEl =\n",
              "        document.querySelector('#df-c4e8d5c4-7d9f-4d6a-b9e4-6a49a083955f button.colab-df-convert');\n",
              "      buttonEl.style.display =\n",
              "        google.colab.kernel.accessAllowed ? 'block' : 'none';\n",
              "\n",
              "      async function convertToInteractive(key) {\n",
              "        const element = document.querySelector('#df-c4e8d5c4-7d9f-4d6a-b9e4-6a49a083955f');\n",
              "        const dataTable =\n",
              "          await google.colab.kernel.invokeFunction('convertToInteractive',\n",
              "                                                    [key], {});\n",
              "        if (!dataTable) return;\n",
              "\n",
              "        const docLinkHtml = 'Like what you see? Visit the ' +\n",
              "          '<a target=\"_blank\" href=https://colab.research.google.com/notebooks/data_table.ipynb>data table notebook</a>'\n",
              "          + ' to learn more about interactive tables.';\n",
              "        element.innerHTML = '';\n",
              "        dataTable['output_type'] = 'display_data';\n",
              "        await google.colab.output.renderOutput(dataTable, element);\n",
              "        const docLink = document.createElement('div');\n",
              "        docLink.innerHTML = docLinkHtml;\n",
              "        element.appendChild(docLink);\n",
              "      }\n",
              "    </script>\n",
              "  </div>\n",
              "\n",
              "\n",
              "<div id=\"df-dcbf6c53-f52c-4b30-a8ae-c1ed8cf46867\">\n",
              "  <button class=\"colab-df-quickchart\" onclick=\"quickchart('df-dcbf6c53-f52c-4b30-a8ae-c1ed8cf46867')\"\n",
              "            title=\"Suggest charts\"\n",
              "            style=\"display:none;\">\n",
              "\n",
              "<svg xmlns=\"http://www.w3.org/2000/svg\" height=\"24px\"viewBox=\"0 0 24 24\"\n",
              "     width=\"24px\">\n",
              "    <g>\n",
              "        <path d=\"M19 3H5c-1.1 0-2 .9-2 2v14c0 1.1.9 2 2 2h14c1.1 0 2-.9 2-2V5c0-1.1-.9-2-2-2zM9 17H7v-7h2v7zm4 0h-2V7h2v10zm4 0h-2v-4h2v4z\"/>\n",
              "    </g>\n",
              "</svg>\n",
              "  </button>\n",
              "\n",
              "<style>\n",
              "  .colab-df-quickchart {\n",
              "      --bg-color: #E8F0FE;\n",
              "      --fill-color: #1967D2;\n",
              "      --hover-bg-color: #E2EBFA;\n",
              "      --hover-fill-color: #174EA6;\n",
              "      --disabled-fill-color: #AAA;\n",
              "      --disabled-bg-color: #DDD;\n",
              "  }\n",
              "\n",
              "  [theme=dark] .colab-df-quickchart {\n",
              "      --bg-color: #3B4455;\n",
              "      --fill-color: #D2E3FC;\n",
              "      --hover-bg-color: #434B5C;\n",
              "      --hover-fill-color: #FFFFFF;\n",
              "      --disabled-bg-color: #3B4455;\n",
              "      --disabled-fill-color: #666;\n",
              "  }\n",
              "\n",
              "  .colab-df-quickchart {\n",
              "    background-color: var(--bg-color);\n",
              "    border: none;\n",
              "    border-radius: 50%;\n",
              "    cursor: pointer;\n",
              "    display: none;\n",
              "    fill: var(--fill-color);\n",
              "    height: 32px;\n",
              "    padding: 0;\n",
              "    width: 32px;\n",
              "  }\n",
              "\n",
              "  .colab-df-quickchart:hover {\n",
              "    background-color: var(--hover-bg-color);\n",
              "    box-shadow: 0 1px 2px rgba(60, 64, 67, 0.3), 0 1px 3px 1px rgba(60, 64, 67, 0.15);\n",
              "    fill: var(--button-hover-fill-color);\n",
              "  }\n",
              "\n",
              "  .colab-df-quickchart-complete:disabled,\n",
              "  .colab-df-quickchart-complete:disabled:hover {\n",
              "    background-color: var(--disabled-bg-color);\n",
              "    fill: var(--disabled-fill-color);\n",
              "    box-shadow: none;\n",
              "  }\n",
              "\n",
              "  .colab-df-spinner {\n",
              "    border: 2px solid var(--fill-color);\n",
              "    border-color: transparent;\n",
              "    border-bottom-color: var(--fill-color);\n",
              "    animation:\n",
              "      spin 1s steps(1) infinite;\n",
              "  }\n",
              "\n",
              "  @keyframes spin {\n",
              "    0% {\n",
              "      border-color: transparent;\n",
              "      border-bottom-color: var(--fill-color);\n",
              "      border-left-color: var(--fill-color);\n",
              "    }\n",
              "    20% {\n",
              "      border-color: transparent;\n",
              "      border-left-color: var(--fill-color);\n",
              "      border-top-color: var(--fill-color);\n",
              "    }\n",
              "    30% {\n",
              "      border-color: transparent;\n",
              "      border-left-color: var(--fill-color);\n",
              "      border-top-color: var(--fill-color);\n",
              "      border-right-color: var(--fill-color);\n",
              "    }\n",
              "    40% {\n",
              "      border-color: transparent;\n",
              "      border-right-color: var(--fill-color);\n",
              "      border-top-color: var(--fill-color);\n",
              "    }\n",
              "    60% {\n",
              "      border-color: transparent;\n",
              "      border-right-color: var(--fill-color);\n",
              "    }\n",
              "    80% {\n",
              "      border-color: transparent;\n",
              "      border-right-color: var(--fill-color);\n",
              "      border-bottom-color: var(--fill-color);\n",
              "    }\n",
              "    90% {\n",
              "      border-color: transparent;\n",
              "      border-bottom-color: var(--fill-color);\n",
              "    }\n",
              "  }\n",
              "</style>\n",
              "\n",
              "  <script>\n",
              "    async function quickchart(key) {\n",
              "      const quickchartButtonEl =\n",
              "        document.querySelector('#' + key + ' button');\n",
              "      quickchartButtonEl.disabled = true;  // To prevent multiple clicks.\n",
              "      quickchartButtonEl.classList.add('colab-df-spinner');\n",
              "      try {\n",
              "        const charts = await google.colab.kernel.invokeFunction(\n",
              "            'suggestCharts', [key], {});\n",
              "      } catch (error) {\n",
              "        console.error('Error during call to suggestCharts:', error);\n",
              "      }\n",
              "      quickchartButtonEl.classList.remove('colab-df-spinner');\n",
              "      quickchartButtonEl.classList.add('colab-df-quickchart-complete');\n",
              "    }\n",
              "    (() => {\n",
              "      let quickchartButtonEl =\n",
              "        document.querySelector('#df-dcbf6c53-f52c-4b30-a8ae-c1ed8cf46867 button');\n",
              "      quickchartButtonEl.style.display =\n",
              "        google.colab.kernel.accessAllowed ? 'block' : 'none';\n",
              "    })();\n",
              "  </script>\n",
              "</div>\n",
              "\n",
              "  <div id=\"id_b43c3157-d020-4cdc-8d53-2fdb32af6dbd\">\n",
              "    <style>\n",
              "      .colab-df-generate {\n",
              "        background-color: #E8F0FE;\n",
              "        border: none;\n",
              "        border-radius: 50%;\n",
              "        cursor: pointer;\n",
              "        display: none;\n",
              "        fill: #1967D2;\n",
              "        height: 32px;\n",
              "        padding: 0 0 0 0;\n",
              "        width: 32px;\n",
              "      }\n",
              "\n",
              "      .colab-df-generate:hover {\n",
              "        background-color: #E2EBFA;\n",
              "        box-shadow: 0px 1px 2px rgba(60, 64, 67, 0.3), 0px 1px 3px 1px rgba(60, 64, 67, 0.15);\n",
              "        fill: #174EA6;\n",
              "      }\n",
              "\n",
              "      [theme=dark] .colab-df-generate {\n",
              "        background-color: #3B4455;\n",
              "        fill: #D2E3FC;\n",
              "      }\n",
              "\n",
              "      [theme=dark] .colab-df-generate:hover {\n",
              "        background-color: #434B5C;\n",
              "        box-shadow: 0px 1px 3px 1px rgba(0, 0, 0, 0.15);\n",
              "        filter: drop-shadow(0px 1px 2px rgba(0, 0, 0, 0.3));\n",
              "        fill: #FFFFFF;\n",
              "      }\n",
              "    </style>\n",
              "    <button class=\"colab-df-generate\" onclick=\"generateWithVariable('corr_matrix')\"\n",
              "            title=\"Generate code using this dataframe.\"\n",
              "            style=\"display:none;\">\n",
              "\n",
              "  <svg xmlns=\"http://www.w3.org/2000/svg\" height=\"24px\"viewBox=\"0 0 24 24\"\n",
              "       width=\"24px\">\n",
              "    <path d=\"M7,19H8.4L18.45,9,17,7.55,7,17.6ZM5,21V16.75L18.45,3.32a2,2,0,0,1,2.83,0l1.4,1.43a1.91,1.91,0,0,1,.58,1.4,1.91,1.91,0,0,1-.58,1.4L9.25,21ZM18.45,9,17,7.55Zm-12,3A5.31,5.31,0,0,0,4.9,8.1,5.31,5.31,0,0,0,1,6.5,5.31,5.31,0,0,0,4.9,4.9,5.31,5.31,0,0,0,6.5,1,5.31,5.31,0,0,0,8.1,4.9,5.31,5.31,0,0,0,12,6.5,5.46,5.46,0,0,0,6.5,12Z\"/>\n",
              "  </svg>\n",
              "    </button>\n",
              "    <script>\n",
              "      (() => {\n",
              "      const buttonEl =\n",
              "        document.querySelector('#id_b43c3157-d020-4cdc-8d53-2fdb32af6dbd button.colab-df-generate');\n",
              "      buttonEl.style.display =\n",
              "        google.colab.kernel.accessAllowed ? 'block' : 'none';\n",
              "\n",
              "      buttonEl.onclick = () => {\n",
              "        google.colab.notebook.generateWithVariable('corr_matrix');\n",
              "      }\n",
              "      })();\n",
              "    </script>\n",
              "  </div>\n",
              "\n",
              "    </div>\n",
              "  </div>\n"
            ],
            "application/vnd.google.colaboratory.intrinsic+json": {
              "type": "dataframe",
              "variable_name": "corr_matrix",
              "summary": "{\n  \"name\": \"corr_matrix\",\n  \"rows\": 4,\n  \"fields\": [\n    {\n      \"column\": \"fat_100g\",\n      \"properties\": {\n        \"dtype\": \"number\",\n        \"std\": 0.3795609277875988,\n        \"min\": 0.1799694787740749,\n        \"max\": 1.0,\n        \"num_unique_values\": 4,\n        \"samples\": [\n          0.6828249979725555,\n          0.27408232856382186,\n          1.0\n        ],\n        \"semantic_type\": \"\",\n        \"description\": \"\"\n      }\n    },\n    {\n      \"column\": \"saturated_fat_100g\",\n      \"properties\": {\n        \"dtype\": \"number\",\n        \"std\": 0.25203163101651765,\n        \"min\": 0.3829124629070416,\n        \"max\": 1.0,\n        \"num_unique_values\": 4,\n        \"samples\": [\n          1.0,\n          0.7007802147758128,\n          0.6828249979725555\n        ],\n        \"semantic_type\": \"\",\n        \"description\": \"\"\n      }\n    },\n    {\n      \"column\": \"cholesterol_100g\",\n      \"properties\": {\n        \"dtype\": \"number\",\n        \"std\": 0.3546255980364542,\n        \"min\": 0.1799694787740749,\n        \"max\": 1.0,\n        \"num_unique_values\": 4,\n        \"samples\": [\n          0.3829124629070416,\n          0.392031908842688,\n          0.1799694787740749\n        ],\n        \"semantic_type\": \"\",\n        \"description\": \"\"\n      }\n    },\n    {\n      \"column\": \"sat_fat_to_total_fat\",\n      \"properties\": {\n        \"dtype\": \"number\",\n        \"std\": 0.3262696803056118,\n        \"min\": 0.27408232856382186,\n        \"max\": 1.0,\n        \"num_unique_values\": 4,\n        \"samples\": [\n          0.7007802147758128,\n          1.0,\n          0.27408232856382186\n        ],\n        \"semantic_type\": \"\",\n        \"description\": \"\"\n      }\n    }\n  ]\n}"
            }
          },
          "metadata": {},
          "execution_count": 8
        }
      ]
    },
    {
      "cell_type": "markdown",
      "source": [
        "Moderate positive correlation between saturated fat and saturated fat to total fat ratio indicates that as saturated fat increases, so does the ratio of saturated fat to total fat. This makes sense because foods with higher saturated fat levels are likely to have a larger proportion of their total fat content from saturated fat.\n",
        "\n",
        "Moderate correlation between cholesterol_100g and sat_fat_to_total_fat suggests that foods with a higher proportion of saturated fat relative to total fat may also have more cholesterol.\n",
        "\n",
        "Features for clustering:\n",
        "\n",
        "*   fat_100g: general measure of total fat content, which is helpful for identifying high-calorie or processed foods\n",
        "\n",
        "*   saturated_fat_100g: closely related to total fat but gives additional insight into the quality of the fat content because processed foods tend to have higher saturated fat\n",
        "\n",
        "* cholesterol_100g: show levels of cholesterol since processed products tend to have more cholesterol\n",
        "\n",
        "* sat_fat_to_total_fat: helps assess the quality of fats by showing the proportion of total fat that is saturated, higher ratio tends to lean towards non-organic foods"
      ],
      "metadata": {
        "id": "VVQKqrQAQ8xp"
      }
    },
    {
      "cell_type": "code",
      "source": [
        "plt.figure(figsize=(12, 8))\n",
        "sns.heatmap(corr_matrix, annot=True, cmap=\"coolwarm\")\n",
        "plt.title(\"Correlation Matrix of Selected Features\")\n",
        "plt.show()"
      ],
      "metadata": {
        "colab": {
          "base_uri": "https://localhost:8080/",
          "height": 699
        },
        "id": "jmuGjPrGo8Rw",
        "outputId": "37d43581-315f-43ce-fbfe-495ebaad6568"
      },
      "execution_count": null,
      "outputs": [
        {
          "output_type": "display_data",
          "data": {
            "text/plain": [
              "<Figure size 1200x800 with 2 Axes>"
            ],
            "image/png": "[encoded data removed]"
          },
          "metadata": {}
        }
      ]
    },
    {
      "cell_type": "code",
      "source": [
        "# Standardize features\n",
        "from sklearn.preprocessing import StandardScaler\n",
        "\n",
        "scaler = StandardScaler()\n",
        "scaled_data = scaler.fit_transform(features)"
      ],
      "metadata": {
        "id": "knGYOL8CvISK"
      },
      "execution_count": null,
      "outputs": []
    },
    {
      "cell_type": "code",
      "source": [
        "# Create elbow plot to select number of clusters\n",
        "wcss = []\n",
        "k_range = range(2, 11)\n",
        "\n",
        "for k in range(2, 11):\n",
        "  kmeans = KMeans(n_clusters=k, random_state=0)\n",
        "  kmeans.fit(scaled_data)\n",
        "  wcss.append(kmeans.inertia_)\n",
        "\n",
        "plt.plot(k_range, wcss, marker='o', linestyle='-')\n",
        "plt.title('Elbow Plot for K-means Clustering')\n",
        "plt.xlabel('Number of Clusters')\n",
        "plt.ylabel('Within-Cluster Sum of Squares (WCSS)')\n",
        "plt.show()"
      ],
      "metadata": {
        "colab": {
          "base_uri": "https://localhost:8080/",
          "height": 472
        },
        "id": "2_vV1KQhir8A",
        "outputId": "bb214e62-2b55-4f1f-d43b-6d9293c40d62"
      },
      "execution_count": null,
      "outputs": [
        {
          "output_type": "display_data",
          "data": {
            "text/plain": [
              "<Figure size 640x480 with 1 Axes>"
            ],
            "image/png": "[encoded data removed]"
          },
          "metadata": {}
        }
      ]
    },
    {
      "cell_type": "code",
      "source": [
        "# Fit model again on decided number of clusters\n",
        "number_of_clusters = 5\n",
        "kmeans = KMeans(n_clusters=number_of_clusters, random_state=0)\n",
        "clusters = kmeans.fit_predict(features)\n",
        "cluster_df['cluster'] = clusters"
      ],
      "metadata": {
        "colab": {
          "base_uri": "https://localhost:8080/"
        },
        "id": "wzvVEWThv-vL",
        "outputId": "9855dfe2-3875-4eee-a268-f61172d21588"
      },
      "execution_count": null,
      "outputs": [
        {
          "output_type": "stream",
          "name": "stderr",
          "text": [
            "<ipython-input-12-b23c09a356aa>:5: SettingWithCopyWarning: \n",
            "A value is trying to be set on a copy of a slice from a DataFrame.\n",
            "Try using .loc[row_indexer,col_indexer] = value instead\n",
            "\n",
            "See the caveats in the documentation: https://pandas.pydata.org/pandas-docs/stable/user_guide/indexing.html#returning-a-view-versus-a-copy\n",
            "  cluster_df['cluster'] = clusters\n"
          ]
        }
      ]
    },
    {
      "cell_type": "markdown",
      "source": [
        "###Cluster Profiles\n",
        "#####Cluster 0: Low fat and saturated fat levels, possibly organic or minimally processed low-calorie foods. Lowest saturated fat to total fat ratio. Highest organic presence.\n",
        "#####Cluster 1: Moderate to High in fat and saturated fat. Highest saturated fat to total fat ratio. Lowest organic presence, likely processed foods.\n",
        "#####Cluster 2: High in fat, moderate in saturated fats. Likely a mix of processed foods.\n",
        "#####Cluster 3: Moderate fat levels, likely a mix of processed foods.\n",
        "#####Cluster 4: Moderate to High in fat, likely a mix of processed foods."
      ],
      "metadata": {
        "id": "_N8BmjdfzCr1"
      }
    },
    {
      "cell_type": "code",
      "source": [
        "# get averages of each feature for each cluster\n",
        "cluster_summary = cluster_df.groupby('cluster')[['fat_100g', 'saturated_fat_100g', 'cholesterol_100g', 'sat_fat_to_total_fat']].mean()\n",
        "print(\"Cluster Profiles:\\n\", cluster_summary)"
      ],
      "metadata": {
        "colab": {
          "base_uri": "https://localhost:8080/"
        },
        "id": "-WFOFVJkwb2b",
        "outputId": "2ac9df36-34f6-452c-94ff-f7179ea395c8"
      },
      "execution_count": null,
      "outputs": [
        {
          "output_type": "stream",
          "name": "stdout",
          "text": [
            "Cluster Profiles:\n",
            "           fat_100g  saturated_fat_100g  cholesterol_100g  sat_fat_to_total_fat\n",
            "cluster                                                                       \n",
            "0         1.907656            0.444072          0.006033              0.126035\n",
            "1        26.211519           15.123116          0.031834              0.588932\n",
            "2        47.201197            7.611828          0.006444              0.165386\n",
            "3        13.212880            4.875003          0.022975              0.378916\n",
            "4        27.099881            5.324106          0.014186              0.201707\n"
          ]
        }
      ]
    },
    {
      "cell_type": "code",
      "source": [
        "# get percentage of organic products in each cluster\n",
        "organic_distribution = cluster_df.groupby('cluster')['organic_label'].mean()\n",
        "print(\"Proportion of Organic Products in Each Cluster:\\n\", organic_distribution)"
      ],
      "metadata": {
        "colab": {
          "base_uri": "https://localhost:8080/"
        },
        "id": "_pexXe4TxrRm",
        "outputId": "148d9fe8-7b97-410b-900a-73f1b9b73854"
      },
      "execution_count": null,
      "outputs": [
        {
          "output_type": "stream",
          "name": "stdout",
          "text": [
            "Proportion of Organic Products in Each Cluster:\n",
            " cluster\n",
            "0    0.150338\n",
            "1    0.068059\n",
            "2    0.105112\n",
            "3    0.102417\n",
            "4    0.117071\n",
            "Name: organic_label, dtype: float64\n"
          ]
        }
      ]
    },
    {
      "cell_type": "markdown",
      "source": [
        "###Conclusion:\n",
        "#####Cluster 1 has the lowest organic proportion and the highest saturated fat to total fat ratio, likely consisting of highly processed foods. Cluster 0 has the highest organic proportions and the lowest saturated fat to total fat ratio, likely consisting of healthier foods. Cluster 2, 3, and 4 are a mix of processed foods. There is a very slight correlation between the saturated fat vs. total fat ratio to organic labeling as the higher the ratio, the lower the organic proportion.\n",
        "\n",
        "#####Overall, these clusters show that there is not a strong alignment between fat levels and organic labeling of products. Therefore, there is not a significant difference between organic and non-organic foods based on fat alone."
      ],
      "metadata": {
        "id": "yj4Tibge9-LK"
      }
    }
  ]
}